{
 "cells": [
  {
   "cell_type": "code",
   "execution_count": 1,
   "id": "8c229f24",
   "metadata": {},
   "outputs": [
    {
     "name": "stdout",
     "output_type": "stream",
     "text": [
      "Cleaned text saved as cleaned_text.txt\n"
     ]
    }
   ],
   "source": [
    "import re\n",
    "\n",
    "with open(\"data/raw_text.txt\", \"r\", encoding=\"utf-8\") as f:\n",
    "    text = f.read()\n",
    "\n",
    "text = re.sub(r'\\n+', '\\n', text)\n",
    "\n",
    "text = re.sub(r'\\s+', ' ', text)\n",
    "\n",
    "sentences = re.split(r'(?<=[.?!])\\s+', text)\n",
    "\n",
    "with open(\"data/cleaned_text.txt\", \"w\", encoding=\"utf-8\") as f:\n",
    "    f.write(\"\\n\".join(sentences))\n",
    "\n",
    "print(\"Cleaned text saved as cleaned_text.txt\")\n"
   ]
  }
 ],
 "metadata": {
  "kernelspec": {
   "display_name": "Python 3",
   "language": "python",
   "name": "python3"
  },
  "language_info": {
   "codemirror_mode": {
    "name": "ipython",
    "version": 3
   },
   "file_extension": ".py",
   "mimetype": "text/x-python",
   "name": "python",
   "nbconvert_exporter": "python",
   "pygments_lexer": "ipython3",
   "version": "3.13.5"
  }
 },
 "nbformat": 4,
 "nbformat_minor": 5
}
